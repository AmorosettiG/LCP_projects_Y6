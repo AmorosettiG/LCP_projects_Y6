{
 "cells": [
  {
   "cell_type": "markdown",
   "metadata": {},
   "source": [
    "# XSOR Capital Project: Volume based models\n",
    "\n",
    "This project is proposed by two Physics of Data alumni, Nicole Zattarin and Aidin Attar, both now emplyed by XOR Capital, a Investment boutique based in London. The project is described in the pdf you find in the repo.\n",
    "\n",
    "\n",
    "### Contacts\n",
    "\n",
    "* Nicole Zattarin <nicole.zattarin@xsorcapital.com>\n",
    "* Aidin Attar <aidin.attar@xsorcapital.com>\n"
   ]
  },
  {
   "cell_type": "code",
   "execution_count": null,
   "metadata": {},
   "outputs": [],
   "source": []
  }
 ],
 "metadata": {
  "kernelspec": {
   "display_name": "Python 3 (ipykernel)",
   "language": "python",
   "name": "python3"
  },
  "language_info": {
   "codemirror_mode": {
    "name": "ipython",
    "version": 3
   },
   "file_extension": ".py",
   "mimetype": "text/x-python",
   "name": "python",
   "nbconvert_exporter": "python",
   "pygments_lexer": "ipython3",
   "version": "3.9.7"
  }
 },
 "nbformat": 4,
 "nbformat_minor": 2
}
